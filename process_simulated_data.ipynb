{
 "cells": [
  {
   "cell_type": "code",
   "execution_count": 2,
   "metadata": {},
   "outputs": [],
   "source": [
    "import pandas as pd\n",
    "import numpy as np\n",
    "import seaborn as sns"
   ]
  },
  {
   "cell_type": "code",
   "execution_count": 10,
   "metadata": {},
   "outputs": [],
   "source": [
    "# let's load the datafram\n",
    "df = pd.read_csv('synthetic_gt.csv')"
   ]
  },
  {
   "cell_type": "code",
   "execution_count": 11,
   "metadata": {},
   "outputs": [],
   "source": [
    "# break down the values in the filename column into three parts: scene_id, n_red, n_blue\n",
    "# for instance id11_r5_b6.png will have scene_id=11, n_red=5, n_blue=6\n",
    "# these three parts should be added to the dataframe as three new columns\n",
    "df['scene_id'] = df['filename'].apply(lambda x: int(x[2:4]))\n",
    "df['n_red'] = df['filename'].apply(lambda x: int(x[6]))\n",
    "df['n_blue'] = df['filename'].apply(lambda x: int(x[9]))\n",
    "\n",
    "# add a column called expected_side which will can be either red or blue or neither depending on which color has a larger value\n",
    "df['expected_side'] = df.apply(lambda x: 'red' if x['n_red'] > x['n_blue'] else 'blue' if x['n_red'] < x['n_blue'] else 'neither', axis=1)"
   ]
  },
  {
   "cell_type": "code",
   "execution_count": 12,
   "metadata": {},
   "outputs": [
    {
     "data": {
      "text/html": [
       "<div>\n",
       "<style scoped>\n",
       "    .dataframe tbody tr th:only-of-type {\n",
       "        vertical-align: middle;\n",
       "    }\n",
       "\n",
       "    .dataframe tbody tr th {\n",
       "        vertical-align: top;\n",
       "    }\n",
       "\n",
       "    .dataframe thead th {\n",
       "        text-align: right;\n",
       "    }\n",
       "</style>\n",
       "<table border=\"1\" class=\"dataframe\">\n",
       "  <thead>\n",
       "    <tr style=\"text-align: right;\">\n",
       "      <th></th>\n",
       "      <th>subject_id</th>\n",
       "      <th>filename</th>\n",
       "      <th>response_time</th>\n",
       "      <th>gender</th>\n",
       "      <th>age</th>\n",
       "      <th>knows_football</th>\n",
       "      <th>sim_psucc</th>\n",
       "      <th>response_side</th>\n",
       "      <th>scene_id</th>\n",
       "      <th>n_red</th>\n",
       "      <th>n_blue</th>\n",
       "      <th>expected_side</th>\n",
       "    </tr>\n",
       "  </thead>\n",
       "  <tbody>\n",
       "    <tr>\n",
       "      <th>0</th>\n",
       "      <td>0</td>\n",
       "      <td>id11_r5_b6.png</td>\n",
       "      <td>1001.484609</td>\n",
       "      <td>m</td>\n",
       "      <td>33</td>\n",
       "      <td>0</td>\n",
       "      <td>0.750222</td>\n",
       "      <td>blue</td>\n",
       "      <td>11</td>\n",
       "      <td>5</td>\n",
       "      <td>6</td>\n",
       "      <td>blue</td>\n",
       "    </tr>\n",
       "    <tr>\n",
       "      <th>1</th>\n",
       "      <td>0</td>\n",
       "      <td>id11_r6_b5.png</td>\n",
       "      <td>1039.114838</td>\n",
       "      <td>m</td>\n",
       "      <td>33</td>\n",
       "      <td>0</td>\n",
       "      <td>0.658444</td>\n",
       "      <td>red</td>\n",
       "      <td>11</td>\n",
       "      <td>6</td>\n",
       "      <td>5</td>\n",
       "      <td>red</td>\n",
       "    </tr>\n",
       "    <tr>\n",
       "      <th>2</th>\n",
       "      <td>1</td>\n",
       "      <td>id11_r5_b6.png</td>\n",
       "      <td>977.051821</td>\n",
       "      <td>m</td>\n",
       "      <td>27</td>\n",
       "      <td>1</td>\n",
       "      <td>0.537791</td>\n",
       "      <td>red</td>\n",
       "      <td>11</td>\n",
       "      <td>5</td>\n",
       "      <td>6</td>\n",
       "      <td>blue</td>\n",
       "    </tr>\n",
       "    <tr>\n",
       "      <th>3</th>\n",
       "      <td>1</td>\n",
       "      <td>id11_r6_b5.png</td>\n",
       "      <td>1095.731090</td>\n",
       "      <td>m</td>\n",
       "      <td>27</td>\n",
       "      <td>1</td>\n",
       "      <td>0.710571</td>\n",
       "      <td>blue</td>\n",
       "      <td>11</td>\n",
       "      <td>6</td>\n",
       "      <td>5</td>\n",
       "      <td>red</td>\n",
       "    </tr>\n",
       "    <tr>\n",
       "      <th>4</th>\n",
       "      <td>2</td>\n",
       "      <td>id11_r6_b5.png</td>\n",
       "      <td>1086.785866</td>\n",
       "      <td>f</td>\n",
       "      <td>35</td>\n",
       "      <td>0</td>\n",
       "      <td>0.721666</td>\n",
       "      <td>blue</td>\n",
       "      <td>11</td>\n",
       "      <td>6</td>\n",
       "      <td>5</td>\n",
       "      <td>red</td>\n",
       "    </tr>\n",
       "  </tbody>\n",
       "</table>\n",
       "</div>"
      ],
      "text/plain": [
       "   subject_id        filename  response_time gender  age  knows_football  \\\n",
       "0           0  id11_r5_b6.png    1001.484609      m   33               0   \n",
       "1           0  id11_r6_b5.png    1039.114838      m   33               0   \n",
       "2           1  id11_r5_b6.png     977.051821      m   27               1   \n",
       "3           1  id11_r6_b5.png    1095.731090      m   27               1   \n",
       "4           2  id11_r6_b5.png    1086.785866      f   35               0   \n",
       "\n",
       "   sim_psucc response_side  scene_id  n_red  n_blue expected_side  \n",
       "0   0.750222          blue        11      5       6          blue  \n",
       "1   0.658444           red        11      6       5           red  \n",
       "2   0.537791           red        11      5       6          blue  \n",
       "3   0.710571          blue        11      6       5           red  \n",
       "4   0.721666          blue        11      6       5           red  "
      ]
     },
     "execution_count": 12,
     "metadata": {},
     "output_type": "execute_result"
    }
   ],
   "source": [
    "df.head()"
   ]
  },
  {
   "cell_type": "code",
   "execution_count": 13,
   "metadata": {},
   "outputs": [],
   "source": [
    "df.to_csv('synthetic_enriched_gt.csv', index=None)"
   ]
  },
  {
   "cell_type": "code",
   "execution_count": null,
   "metadata": {},
   "outputs": [],
   "source": []
  }
 ],
 "metadata": {
  "kernelspec": {
   "display_name": "cog_sci_project",
   "language": "python",
   "name": "python3"
  },
  "language_info": {
   "codemirror_mode": {
    "name": "ipython",
    "version": 3
   },
   "file_extension": ".py",
   "mimetype": "text/x-python",
   "name": "python",
   "nbconvert_exporter": "python",
   "pygments_lexer": "ipython3",
   "version": "3.11.5"
  }
 },
 "nbformat": 4,
 "nbformat_minor": 2
}
