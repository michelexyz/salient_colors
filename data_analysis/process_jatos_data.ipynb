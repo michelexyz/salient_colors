{
 "cells": [
  {
   "cell_type": "code",
   "execution_count": 1,
   "metadata": {
    "ExecuteTime": {
     "end_time": "2023-10-27T15:15:03.506311988Z",
     "start_time": "2023-10-27T15:15:03.458659929Z"
    }
   },
   "outputs": [],
   "source": [
    "import os\n",
    "from pathlib import Path\n",
    "import pandas as pd\n",
    "import numpy as np\n",
    "import glob"
   ]
  },
  {
   "cell_type": "code",
   "execution_count": 2,
   "metadata": {
    "ExecuteTime": {
     "end_time": "2023-10-27T15:15:03.507002013Z",
     "start_time": "2023-10-27T15:15:03.502361931Z"
    }
   },
   "outputs": [
    {
     "name": "stdout",
     "output_type": "stream",
     "text": [
      "../../results/jatos_results_data_20231027135021/**/*.txt\n"
     ]
    },
    {
     "data": {
      "text/plain": "['../../results/jatos_results_data_20231027135021/study_result_317676/comp-result_444707/data.txt',\n '../../results/jatos_results_data_20231027135021/study_result_315567/comp-result_442242/data.txt',\n '../../results/jatos_results_data_20231027135021/study_result_315746/comp-result_442451/data.txt',\n '../../results/jatos_results_data_20231027135021/study_result_315771/comp-result_442482/data.txt',\n '../../results/jatos_results_data_20231027135021/study_result_315772/comp-result_442483/data.txt',\n '../../results/jatos_results_data_20231027135021/study_result_315898/comp-result_442636/data.txt',\n '../../results/jatos_results_data_20231027135021/study_result_315949/comp-result_442691/data.txt',\n '../../results/jatos_results_data_20231027135021/study_result_316005/comp-result_442752/data.txt',\n '../../results/jatos_results_data_20231027135021/study_result_316973/comp-result_443802/data.txt',\n '../../results/jatos_results_data_20231027135021/study_result_316991/comp-result_443820/data.txt',\n '../../results/jatos_results_data_20231027135021/study_result_317050/comp-result_443885/data.txt',\n '../../results/jatos_results_data_20231027135021/study_result_317091/comp-result_443927/data.txt',\n '../../results/jatos_results_data_20231027135021/study_result_317117/comp-result_443962/data.txt',\n '../../results/jatos_results_data_20231027135021/study_result_317117/comp-result_443963/data.txt',\n '../../results/jatos_results_data_20231027135021/study_result_317125/comp-result_443971/data.txt',\n '../../results/jatos_results_data_20231027135021/study_result_317610/comp-result_444632/data.txt',\n '../../results/jatos_results_data_20231027135021/study_result_317626/comp-result_444649/data.txt',\n '../../results/jatos_results_data_20231027135021/study_result_317629/comp-result_444653/data.txt',\n '../../results/jatos_results_data_20231027135021/study_result_317677/comp-result_444710/data.txt',\n '../../results/jatos_results_data_20231027135021/study_result_317682/comp-result_444717/data.txt',\n '../../results/jatos_results_data_20231027135021/study_result_317699/comp-result_444733/data.txt',\n '../../results/jatos_results_data_20231027135021/study_result_317699/comp-result_444734/data.txt',\n '../../results/jatos_results_data_20231027135021/study_result_317699/comp-result_444735/data.txt',\n '../../results/jatos_results_data_20231027135021/study_result_317704/comp-result_444741/data.txt',\n '../../results/jatos_results_data_20231027135021/study_result_317711/comp-result_444749/data.txt',\n '../../results/jatos_results_data_20231027135021/study_result_317715/comp-result_444753/data.txt',\n '../../results/jatos_results_data_20231027135021/study_result_317716/comp-result_444754/data.txt',\n '../../results/jatos_results_data_20231027135021/study_result_317731/comp-result_444771/data.txt',\n '../../results/jatos_results_data_20231027135021/study_result_317731/comp-result_444772/data.txt',\n '../../results/jatos_results_data_20231027135021/study_result_317750/comp-result_444791/data.txt',\n '../../results/jatos_results_data_20231027135021/study_result_317783/comp-result_444825/data.txt',\n '../../results/jatos_results_data_20231027135021/study_result_317826/comp-result_444868/data.txt',\n '../../results/jatos_results_data_20231027135021/study_result_317851/comp-result_444896/data.txt',\n '../../results/jatos_results_data_20231027135021/study_result_317972/comp-result_445018/data.txt',\n '../../results/jatos_results_data_20231027135021/study_result_317978/comp-result_445036/data.txt',\n '../../results/jatos_results_data_20231027135021/study_result_317986/comp-result_445033/data.txt',\n '../../results/jatos_results_data_20231027135021/study_result_317990/comp-result_445038/data.txt',\n '../../results/jatos_results_data_20231027135021/study_result_318045/comp-result_445103/data.txt',\n '../../results/jatos_results_data_20231027135021/study_result_318046/comp-result_445104/data.txt',\n '../../results/jatos_results_data_20231027135021/study_result_318090/comp-result_445148/data.txt',\n '../../results/jatos_results_data_20231027135021/study_result_318111/comp-result_445173/data.txt',\n '../../results/jatos_results_data_20231027135021/study_result_318294/comp-result_445373/data.txt',\n '../../results/jatos_results_data_20231027135021/study_result_318442/comp-result_445538/data.txt',\n '../../results/jatos_results_data_20231027135021/study_result_318443/comp-result_445539/data.txt',\n '../../results/jatos_results_data_20231027135021/study_result_318586/comp-result_445696/data.txt',\n '../../results/jatos_results_data_20231027135021/study_result_318602/comp-result_445712/data.txt',\n '../../results/jatos_results_data_20231027135021/study_result_320737/comp-result_448176/data.txt',\n '../../results/jatos_results_data_20231027135021/study_result_320803/comp-result_448254/data.txt',\n '../../results/jatos_results_data_20231027135021/study_result_320842/comp-result_448297/data.txt',\n '../../results/jatos_results_data_20231027135021/study_result_320880/comp-result_448342/data.txt',\n '../../results/jatos_results_data_20231027135021/study_result_321320/comp-result_448960/data.txt',\n '../../results/jatos_results_data_20231027135021/study_result_321689/comp-result_449358/data.txt',\n '../../results/jatos_results_data_20231027135021/study_result_322320/comp-result_450306/data.txt']"
     },
     "execution_count": 2,
     "metadata": {},
     "output_type": "execute_result"
    }
   ],
   "source": [
    "DATA_DIR = Path('../../results/jatos_results_data_20231027135021')\n",
    "#DATA_DIR = Path('../../results/jatos_results_data_20231020151141') # caoimhin\n",
    "assert DATA_DIR.exists()\n",
    "\n",
    "# use glob to get all files matching *.txt anywhere in the tree under DIRNAME\n",
    "glob_string = str(DATA_DIR) + r'/**/*.txt'\n",
    "print(glob_string)\n",
    "filenames = glob.glob(glob_string, recursive=True)\n",
    "filenames\n"
   ]
  },
  {
   "cell_type": "code",
   "execution_count": 3,
   "metadata": {
    "ExecuteTime": {
     "end_time": "2023-10-27T15:15:03.507112159Z",
     "start_time": "2023-10-27T15:15:03.502450198Z"
    }
   },
   "outputs": [],
   "source": [
    "import re\n",
    "named_pattern = re.compile(r'^id(?P<scene_id>\\d+)_v(?P<version>\\d+)_b(?P<blue_count>\\d+)_r(?P<red_count>\\d+)\\..+$')"
   ]
  },
  {
   "cell_type": "code",
   "execution_count": 4,
   "metadata": {
    "ExecuteTime": {
     "end_time": "2023-10-27T15:15:03.599790170Z",
     "start_time": "2023-10-27T15:15:03.504886930Z"
    }
   },
   "outputs": [
    {
     "name": "stdout",
     "output_type": "stream",
     "text": [
      "Error loading JSON data from ../../results/jatos_results_data_20231027135021/study_result_317117/comp-result_443962/data.txt: Expecting value: line 1 column 2 (char 1)\n",
      "Error loading JSON data from ../../results/jatos_results_data_20231027135021/study_result_317699/comp-result_444733/data.txt: Expecting value: line 1 column 2 (char 1)\n",
      "Error loading JSON data from ../../results/jatos_results_data_20231027135021/study_result_317699/comp-result_444734/data.txt: Expecting value: line 1 column 2 (char 1)\n",
      "Error loading JSON data from ../../results/jatos_results_data_20231027135021/study_result_317731/comp-result_444771/data.txt: Expecting value: line 1 column 2 (char 1)\n"
     ]
    },
    {
     "data": {
      "text/plain": "  age response_side impaired_vision experience  gender     session_id  \\\n0  23           red              no      never  female  1697797568418   \n1  23          blue              no      never  female  1697797568418   \n2  23          blue              no      never  female  1697797568418   \n3  23          blue              no      never  female  1697797568418   \n4  23           red              no      never  female  1697797568418   \n\n   inner_width  trial_no           filename  scene_id  ...  expected_side  \\\n0         1512         0  id17_v1_b6_r5.jpg        17  ...           blue   \n1         1512         1  id10_v2_b7_r6.jpg        10  ...           blue   \n2         1512         2  id12_v1_b7_r6.jpg        12  ...           blue   \n3         1512         3  id20_v1_b7_r6.jpg        20  ...           blue   \n4         1512         4   id5_v2_b7_r6.jpg         5  ...           blue   \n\n    browser  screen_w  screen_h        os exp_start_date  exp_start_time  \\\n0  Netscape      1512       982  MacIntel       20-09-23        12:26:00   \n1  Netscape      1512       982  MacIntel       20-09-23        12:26:00   \n2  Netscape      1512       982  MacIntel       20-09-23        12:26:00   \n3  Netscape      1512       982  MacIntel       20-09-23        12:26:00   \n4  Netscape      1512       982  MacIntel       20-09-23        12:26:00   \n\n   favorite_team favorite_color subject_id  \n0          other          other     444707  \n1          other          other     444707  \n2          other          other     444707  \n3          other          other     444707  \n4          other          other     444707  \n\n[5 rows x 24 columns]",
      "text/html": "<div>\n<style scoped>\n    .dataframe tbody tr th:only-of-type {\n        vertical-align: middle;\n    }\n\n    .dataframe tbody tr th {\n        vertical-align: top;\n    }\n\n    .dataframe thead th {\n        text-align: right;\n    }\n</style>\n<table border=\"1\" class=\"dataframe\">\n  <thead>\n    <tr style=\"text-align: right;\">\n      <th></th>\n      <th>age</th>\n      <th>response_side</th>\n      <th>impaired_vision</th>\n      <th>experience</th>\n      <th>gender</th>\n      <th>session_id</th>\n      <th>inner_width</th>\n      <th>trial_no</th>\n      <th>filename</th>\n      <th>scene_id</th>\n      <th>...</th>\n      <th>expected_side</th>\n      <th>browser</th>\n      <th>screen_w</th>\n      <th>screen_h</th>\n      <th>os</th>\n      <th>exp_start_date</th>\n      <th>exp_start_time</th>\n      <th>favorite_team</th>\n      <th>favorite_color</th>\n      <th>subject_id</th>\n    </tr>\n  </thead>\n  <tbody>\n    <tr>\n      <th>0</th>\n      <td>23</td>\n      <td>red</td>\n      <td>no</td>\n      <td>never</td>\n      <td>female</td>\n      <td>1697797568418</td>\n      <td>1512</td>\n      <td>0</td>\n      <td>id17_v1_b6_r5.jpg</td>\n      <td>17</td>\n      <td>...</td>\n      <td>blue</td>\n      <td>Netscape</td>\n      <td>1512</td>\n      <td>982</td>\n      <td>MacIntel</td>\n      <td>20-09-23</td>\n      <td>12:26:00</td>\n      <td>other</td>\n      <td>other</td>\n      <td>444707</td>\n    </tr>\n    <tr>\n      <th>1</th>\n      <td>23</td>\n      <td>blue</td>\n      <td>no</td>\n      <td>never</td>\n      <td>female</td>\n      <td>1697797568418</td>\n      <td>1512</td>\n      <td>1</td>\n      <td>id10_v2_b7_r6.jpg</td>\n      <td>10</td>\n      <td>...</td>\n      <td>blue</td>\n      <td>Netscape</td>\n      <td>1512</td>\n      <td>982</td>\n      <td>MacIntel</td>\n      <td>20-09-23</td>\n      <td>12:26:00</td>\n      <td>other</td>\n      <td>other</td>\n      <td>444707</td>\n    </tr>\n    <tr>\n      <th>2</th>\n      <td>23</td>\n      <td>blue</td>\n      <td>no</td>\n      <td>never</td>\n      <td>female</td>\n      <td>1697797568418</td>\n      <td>1512</td>\n      <td>2</td>\n      <td>id12_v1_b7_r6.jpg</td>\n      <td>12</td>\n      <td>...</td>\n      <td>blue</td>\n      <td>Netscape</td>\n      <td>1512</td>\n      <td>982</td>\n      <td>MacIntel</td>\n      <td>20-09-23</td>\n      <td>12:26:00</td>\n      <td>other</td>\n      <td>other</td>\n      <td>444707</td>\n    </tr>\n    <tr>\n      <th>3</th>\n      <td>23</td>\n      <td>blue</td>\n      <td>no</td>\n      <td>never</td>\n      <td>female</td>\n      <td>1697797568418</td>\n      <td>1512</td>\n      <td>3</td>\n      <td>id20_v1_b7_r6.jpg</td>\n      <td>20</td>\n      <td>...</td>\n      <td>blue</td>\n      <td>Netscape</td>\n      <td>1512</td>\n      <td>982</td>\n      <td>MacIntel</td>\n      <td>20-09-23</td>\n      <td>12:26:00</td>\n      <td>other</td>\n      <td>other</td>\n      <td>444707</td>\n    </tr>\n    <tr>\n      <th>4</th>\n      <td>23</td>\n      <td>red</td>\n      <td>no</td>\n      <td>never</td>\n      <td>female</td>\n      <td>1697797568418</td>\n      <td>1512</td>\n      <td>4</td>\n      <td>id5_v2_b7_r6.jpg</td>\n      <td>5</td>\n      <td>...</td>\n      <td>blue</td>\n      <td>Netscape</td>\n      <td>1512</td>\n      <td>982</td>\n      <td>MacIntel</td>\n      <td>20-09-23</td>\n      <td>12:26:00</td>\n      <td>other</td>\n      <td>other</td>\n      <td>444707</td>\n    </tr>\n  </tbody>\n</table>\n<p>5 rows × 24 columns</p>\n</div>"
     },
     "execution_count": 4,
     "metadata": {},
     "output_type": "execute_result"
    }
   ],
   "source": [
    "import json\n",
    "\n",
    "all_records = []\n",
    "for fn in filenames:\n",
    "    p = Path(fn)\n",
    "    study = p.parts[-3]\n",
    "    component = p.parts[-2]\n",
    "    subject_id = component[-6:]\n",
    "    try:\n",
    "        with open(fn, 'r', encoding='utf-8') as jf:\n",
    "            # Load the JSON data and store it in the 'data' dictionary using the file path as the key\n",
    "            js = json.load(jf)\n",
    "\n",
    "            record_common = {}\n",
    "\n",
    "            record_common['browser'] = js['context']['browser']['name']\n",
    "            record_common['screen_w'] = js['context']['screen']['width']\n",
    "            record_common['screen_h'] = js['context']['screen']['height']\n",
    "            record_common['os'] = js['context']['system']['os']\n",
    "            record_common['exp_start_date'] = js['context']['date']['startdateUTC']\n",
    "            record_common['exp_start_time'] = js['context']['date']['starttime']\n",
    "\n",
    "            extra_questions = js['data'][-1]\n",
    "            record_common['favorite_team'] = extra_questions['favourite_team']\n",
    "            record_common['favorite_color'] = extra_questions['favourite_color']\n",
    "            record_common['subject_id'] = subject_id\n",
    "            # TODO: replace with questiona: \n",
    "            # * The usual outfit of any of your favourite teams include (blue/red/both/neither)\n",
    "            # * Your favourite colours include (blue/red/both/neither)\n",
    "\n",
    "            _records = []\n",
    "            for i, datum in enumerate(js['data'][:-1]):  # -1 because the last entry seems to be empty  TODO: check this\n",
    "                record = {}\n",
    "\n",
    "                record['age'] = datum['age']\n",
    "                record['response_side'] = datum['color_response']\n",
    "                record['impaired_vision'] = datum['daltonic']  # TODO\n",
    "                record['experience'] = datum['football']\n",
    "                # datetime = datum['datetime']  # e.g. \"Mon Oct 09 2023 15:45:58 GMT+0200 (Central European Summer Time)\" or \"Mon Oct 09 2023 15:46:03 GMT+0200 (Ora legale dell’Europa centrale)\"\n",
    "                record['gender'] = datum['gender']\n",
    "                #is_browser = datum['is_browser']  # TODO: maybe needed if people do it on the computer\n",
    "                #opensesame_codename = datum['opensesame_codename']\n",
    "                #opensesame_version = datum['opensesame_version']\n",
    "                record['session_id'] = datum['sessionid']\n",
    "                record['inner_width'] = datum['innerWidth']\n",
    "                #record['filename'] = f\"id{datum['image_nr']}_v{datum['version']}_r{datum['number_of_red']}_b{datum['number_of_blue']}.jpg\"  # TODO\n",
    "                filename = datum['stimuli_name']\n",
    "                assert int(datum['cycle_count_var']) == i\n",
    "                record['trial_no'] = i\n",
    "                record['filename'] = filename\n",
    "                pi = re.match(named_pattern, filename).groupdict()\n",
    "                record['scene_id'] = int(pi['scene_id'])\n",
    "                record['red_count'] = int(pi['red_count'])\n",
    "                record['blue_count'] = int(pi['blue_count'])\n",
    "                record['version'] =  int(pi['version'])\n",
    "                record['response_time'] = int(datum['reactionTimeAnswer'])\n",
    "\n",
    "                record['expected_side'] = 'red' if record['red_count'] > record['blue_count'] else 'blue' if record['red_count'] < record['blue_count'] else 'neither'\n",
    "\n",
    "                _records.append(record | record_common)\n",
    "            \n",
    "            all_records = all_records  + _records\n",
    "    except Exception as e:\n",
    "        print(f\"Error loading JSON data from {fn}: {e}\")\n",
    "        continue\n",
    "\n",
    "df = pd.DataFrame.from_records(all_records)\n",
    "df.head()"
   ]
  },
  {
   "cell_type": "code",
   "execution_count": 5,
   "metadata": {
    "ExecuteTime": {
     "end_time": "2023-10-27T15:15:03.627996326Z",
     "start_time": "2023-10-27T15:15:03.599391655Z"
    }
   },
   "outputs": [
    {
     "data": {
      "text/plain": "         session_id  inner_width     trial_no     scene_id    red_count  \\\ncount  2.940000e+03  2940.000000  2940.000000  2940.000000  2940.000000   \nmean   1.697834e+12  1523.668707    29.500000    15.500000     6.216667   \nstd    1.573814e+08   556.616377    17.321048     8.656914     0.754928   \nmin    1.697622e+12   360.000000     0.000000     1.000000     5.000000   \n25%    1.697742e+12  1280.000000    14.750000     8.000000     6.000000   \n50%    1.697802e+12  1470.000000    29.500000    15.500000     6.000000   \n75%    1.697816e+12  1728.000000    44.250000    23.000000     7.000000   \nmax    1.698262e+12  3440.000000    59.000000    30.000000     8.000000   \n\n        blue_count      version  response_time     screen_w     screen_h  \ncount  2940.000000  2940.000000    2940.000000  2940.000000  2940.000000  \nmean      6.216667     1.500000    1426.123469  1600.081633   999.530612  \nstd       0.754928     0.500085    5618.929138   582.146730   217.555766  \nmin       5.000000     1.000000     178.000000   360.000000   720.000000  \n25%       6.000000     1.000000     698.750000  1368.000000   864.000000  \n50%       6.000000     1.500000     934.000000  1536.000000   956.000000  \n75%       7.000000     2.000000    1383.000000  1920.000000  1080.000000  \nmax       8.000000     2.000000  220947.000000  3440.000000  1600.000000  ",
      "text/html": "<div>\n<style scoped>\n    .dataframe tbody tr th:only-of-type {\n        vertical-align: middle;\n    }\n\n    .dataframe tbody tr th {\n        vertical-align: top;\n    }\n\n    .dataframe thead th {\n        text-align: right;\n    }\n</style>\n<table border=\"1\" class=\"dataframe\">\n  <thead>\n    <tr style=\"text-align: right;\">\n      <th></th>\n      <th>session_id</th>\n      <th>inner_width</th>\n      <th>trial_no</th>\n      <th>scene_id</th>\n      <th>red_count</th>\n      <th>blue_count</th>\n      <th>version</th>\n      <th>response_time</th>\n      <th>screen_w</th>\n      <th>screen_h</th>\n    </tr>\n  </thead>\n  <tbody>\n    <tr>\n      <th>count</th>\n      <td>2.940000e+03</td>\n      <td>2940.000000</td>\n      <td>2940.000000</td>\n      <td>2940.000000</td>\n      <td>2940.000000</td>\n      <td>2940.000000</td>\n      <td>2940.000000</td>\n      <td>2940.000000</td>\n      <td>2940.000000</td>\n      <td>2940.000000</td>\n    </tr>\n    <tr>\n      <th>mean</th>\n      <td>1.697834e+12</td>\n      <td>1523.668707</td>\n      <td>29.500000</td>\n      <td>15.500000</td>\n      <td>6.216667</td>\n      <td>6.216667</td>\n      <td>1.500000</td>\n      <td>1426.123469</td>\n      <td>1600.081633</td>\n      <td>999.530612</td>\n    </tr>\n    <tr>\n      <th>std</th>\n      <td>1.573814e+08</td>\n      <td>556.616377</td>\n      <td>17.321048</td>\n      <td>8.656914</td>\n      <td>0.754928</td>\n      <td>0.754928</td>\n      <td>0.500085</td>\n      <td>5618.929138</td>\n      <td>582.146730</td>\n      <td>217.555766</td>\n    </tr>\n    <tr>\n      <th>min</th>\n      <td>1.697622e+12</td>\n      <td>360.000000</td>\n      <td>0.000000</td>\n      <td>1.000000</td>\n      <td>5.000000</td>\n      <td>5.000000</td>\n      <td>1.000000</td>\n      <td>178.000000</td>\n      <td>360.000000</td>\n      <td>720.000000</td>\n    </tr>\n    <tr>\n      <th>25%</th>\n      <td>1.697742e+12</td>\n      <td>1280.000000</td>\n      <td>14.750000</td>\n      <td>8.000000</td>\n      <td>6.000000</td>\n      <td>6.000000</td>\n      <td>1.000000</td>\n      <td>698.750000</td>\n      <td>1368.000000</td>\n      <td>864.000000</td>\n    </tr>\n    <tr>\n      <th>50%</th>\n      <td>1.697802e+12</td>\n      <td>1470.000000</td>\n      <td>29.500000</td>\n      <td>15.500000</td>\n      <td>6.000000</td>\n      <td>6.000000</td>\n      <td>1.500000</td>\n      <td>934.000000</td>\n      <td>1536.000000</td>\n      <td>956.000000</td>\n    </tr>\n    <tr>\n      <th>75%</th>\n      <td>1.697816e+12</td>\n      <td>1728.000000</td>\n      <td>44.250000</td>\n      <td>23.000000</td>\n      <td>7.000000</td>\n      <td>7.000000</td>\n      <td>2.000000</td>\n      <td>1383.000000</td>\n      <td>1920.000000</td>\n      <td>1080.000000</td>\n    </tr>\n    <tr>\n      <th>max</th>\n      <td>1.698262e+12</td>\n      <td>3440.000000</td>\n      <td>59.000000</td>\n      <td>30.000000</td>\n      <td>8.000000</td>\n      <td>8.000000</td>\n      <td>2.000000</td>\n      <td>220947.000000</td>\n      <td>3440.000000</td>\n      <td>1600.000000</td>\n    </tr>\n  </tbody>\n</table>\n</div>"
     },
     "execution_count": 5,
     "metadata": {},
     "output_type": "execute_result"
    }
   ],
   "source": [
    "df.describe()"
   ]
  },
  {
   "cell_type": "code",
   "execution_count": 6,
   "metadata": {
    "ExecuteTime": {
     "end_time": "2023-10-27T15:15:03.643838170Z",
     "start_time": "2023-10-27T15:15:03.610317058Z"
    }
   },
   "outputs": [],
   "source": [
    "df.to_csv('./data/jatos.csv', index=None)"
   ]
  },
  {
   "cell_type": "code",
   "execution_count": 7,
   "metadata": {
    "ExecuteTime": {
     "end_time": "2023-10-27T15:15:03.715247464Z",
     "start_time": "2023-10-27T15:15:03.662433303Z"
    }
   },
   "outputs": [
    {
     "data": {
      "text/plain": "     age response_side impaired_vision  experience  gender     session_id  \\\n0     23           red              no       never  female  1697797568418   \n1     23          blue              no       never  female  1697797568418   \n2     23          blue              no       never  female  1697797568418   \n3     23          blue              no       never  female  1697797568418   \n4     23           red              no       never  female  1697797568418   \n...   ..           ...             ...         ...     ...            ...   \n2935  26          blue              no  last-month    male  1698262290769   \n2936  26          blue              no  last-month    male  1698262290769   \n2937  26          blue              no  last-month    male  1698262290769   \n2938  26          blue              no  last-month    male  1698262290769   \n2939  26          blue              no  last-month    male  1698262290769   \n\n      inner_width  trial_no           filename  scene_id  ...  expected_side  \\\n0            1512         0  id17_v1_b6_r5.jpg        17  ...           blue   \n1            1512         1  id10_v2_b7_r6.jpg        10  ...           blue   \n2            1512         2  id12_v1_b7_r6.jpg        12  ...           blue   \n3            1512         3  id20_v1_b7_r6.jpg        20  ...           blue   \n4            1512         4   id5_v2_b7_r6.jpg         5  ...           blue   \n...           ...       ...                ...       ...  ...            ...   \n2935         2048        55  id19_v1_b6_r7.jpg        19  ...            red   \n2936         2048        56  id21_v2_b7_r6.jpg        21  ...           blue   \n2937         2048        57  id14_v1_b7_r6.jpg        14  ...           blue   \n2938         2048        58  id30_v1_b7_r6.jpg        30  ...           blue   \n2939         2048        59   id2_v1_b6_r5.jpg         2  ...           blue   \n\n       browser  screen_w  screen_h        os exp_start_date  exp_start_time  \\\n0     Netscape      1512       982  MacIntel       20-09-23        12:26:00   \n1     Netscape      1512       982  MacIntel       20-09-23        12:26:00   \n2     Netscape      1512       982  MacIntel       20-09-23        12:26:00   \n3     Netscape      1512       982  MacIntel       20-09-23        12:26:00   \n4     Netscape      1512       982  MacIntel       20-09-23        12:26:00   \n...        ...       ...       ...       ...            ...             ...   \n2935  Netscape      2048      1152     Win32       25-09-23        21:29:55   \n2936  Netscape      2048      1152     Win32       25-09-23        21:29:55   \n2937  Netscape      2048      1152     Win32       25-09-23        21:29:55   \n2938  Netscape      2048      1152     Win32       25-09-23        21:29:55   \n2939  Netscape      2048      1152     Win32       25-09-23        21:29:55   \n\n      favorite_team favorite_color subject_id  \n0             other          other     444707  \n1             other          other     444707  \n2             other          other     444707  \n3             other          other     444707  \n4             other          other     444707  \n...             ...            ...        ...  \n2935          other           blue     450306  \n2936          other           blue     450306  \n2937          other           blue     450306  \n2938          other           blue     450306  \n2939          other           blue     450306  \n\n[2940 rows x 24 columns]",
      "text/html": "<div>\n<style scoped>\n    .dataframe tbody tr th:only-of-type {\n        vertical-align: middle;\n    }\n\n    .dataframe tbody tr th {\n        vertical-align: top;\n    }\n\n    .dataframe thead th {\n        text-align: right;\n    }\n</style>\n<table border=\"1\" class=\"dataframe\">\n  <thead>\n    <tr style=\"text-align: right;\">\n      <th></th>\n      <th>age</th>\n      <th>response_side</th>\n      <th>impaired_vision</th>\n      <th>experience</th>\n      <th>gender</th>\n      <th>session_id</th>\n      <th>inner_width</th>\n      <th>trial_no</th>\n      <th>filename</th>\n      <th>scene_id</th>\n      <th>...</th>\n      <th>expected_side</th>\n      <th>browser</th>\n      <th>screen_w</th>\n      <th>screen_h</th>\n      <th>os</th>\n      <th>exp_start_date</th>\n      <th>exp_start_time</th>\n      <th>favorite_team</th>\n      <th>favorite_color</th>\n      <th>subject_id</th>\n    </tr>\n  </thead>\n  <tbody>\n    <tr>\n      <th>0</th>\n      <td>23</td>\n      <td>red</td>\n      <td>no</td>\n      <td>never</td>\n      <td>female</td>\n      <td>1697797568418</td>\n      <td>1512</td>\n      <td>0</td>\n      <td>id17_v1_b6_r5.jpg</td>\n      <td>17</td>\n      <td>...</td>\n      <td>blue</td>\n      <td>Netscape</td>\n      <td>1512</td>\n      <td>982</td>\n      <td>MacIntel</td>\n      <td>20-09-23</td>\n      <td>12:26:00</td>\n      <td>other</td>\n      <td>other</td>\n      <td>444707</td>\n    </tr>\n    <tr>\n      <th>1</th>\n      <td>23</td>\n      <td>blue</td>\n      <td>no</td>\n      <td>never</td>\n      <td>female</td>\n      <td>1697797568418</td>\n      <td>1512</td>\n      <td>1</td>\n      <td>id10_v2_b7_r6.jpg</td>\n      <td>10</td>\n      <td>...</td>\n      <td>blue</td>\n      <td>Netscape</td>\n      <td>1512</td>\n      <td>982</td>\n      <td>MacIntel</td>\n      <td>20-09-23</td>\n      <td>12:26:00</td>\n      <td>other</td>\n      <td>other</td>\n      <td>444707</td>\n    </tr>\n    <tr>\n      <th>2</th>\n      <td>23</td>\n      <td>blue</td>\n      <td>no</td>\n      <td>never</td>\n      <td>female</td>\n      <td>1697797568418</td>\n      <td>1512</td>\n      <td>2</td>\n      <td>id12_v1_b7_r6.jpg</td>\n      <td>12</td>\n      <td>...</td>\n      <td>blue</td>\n      <td>Netscape</td>\n      <td>1512</td>\n      <td>982</td>\n      <td>MacIntel</td>\n      <td>20-09-23</td>\n      <td>12:26:00</td>\n      <td>other</td>\n      <td>other</td>\n      <td>444707</td>\n    </tr>\n    <tr>\n      <th>3</th>\n      <td>23</td>\n      <td>blue</td>\n      <td>no</td>\n      <td>never</td>\n      <td>female</td>\n      <td>1697797568418</td>\n      <td>1512</td>\n      <td>3</td>\n      <td>id20_v1_b7_r6.jpg</td>\n      <td>20</td>\n      <td>...</td>\n      <td>blue</td>\n      <td>Netscape</td>\n      <td>1512</td>\n      <td>982</td>\n      <td>MacIntel</td>\n      <td>20-09-23</td>\n      <td>12:26:00</td>\n      <td>other</td>\n      <td>other</td>\n      <td>444707</td>\n    </tr>\n    <tr>\n      <th>4</th>\n      <td>23</td>\n      <td>red</td>\n      <td>no</td>\n      <td>never</td>\n      <td>female</td>\n      <td>1697797568418</td>\n      <td>1512</td>\n      <td>4</td>\n      <td>id5_v2_b7_r6.jpg</td>\n      <td>5</td>\n      <td>...</td>\n      <td>blue</td>\n      <td>Netscape</td>\n      <td>1512</td>\n      <td>982</td>\n      <td>MacIntel</td>\n      <td>20-09-23</td>\n      <td>12:26:00</td>\n      <td>other</td>\n      <td>other</td>\n      <td>444707</td>\n    </tr>\n    <tr>\n      <th>...</th>\n      <td>...</td>\n      <td>...</td>\n      <td>...</td>\n      <td>...</td>\n      <td>...</td>\n      <td>...</td>\n      <td>...</td>\n      <td>...</td>\n      <td>...</td>\n      <td>...</td>\n      <td>...</td>\n      <td>...</td>\n      <td>...</td>\n      <td>...</td>\n      <td>...</td>\n      <td>...</td>\n      <td>...</td>\n      <td>...</td>\n      <td>...</td>\n      <td>...</td>\n      <td>...</td>\n    </tr>\n    <tr>\n      <th>2935</th>\n      <td>26</td>\n      <td>blue</td>\n      <td>no</td>\n      <td>last-month</td>\n      <td>male</td>\n      <td>1698262290769</td>\n      <td>2048</td>\n      <td>55</td>\n      <td>id19_v1_b6_r7.jpg</td>\n      <td>19</td>\n      <td>...</td>\n      <td>red</td>\n      <td>Netscape</td>\n      <td>2048</td>\n      <td>1152</td>\n      <td>Win32</td>\n      <td>25-09-23</td>\n      <td>21:29:55</td>\n      <td>other</td>\n      <td>blue</td>\n      <td>450306</td>\n    </tr>\n    <tr>\n      <th>2936</th>\n      <td>26</td>\n      <td>blue</td>\n      <td>no</td>\n      <td>last-month</td>\n      <td>male</td>\n      <td>1698262290769</td>\n      <td>2048</td>\n      <td>56</td>\n      <td>id21_v2_b7_r6.jpg</td>\n      <td>21</td>\n      <td>...</td>\n      <td>blue</td>\n      <td>Netscape</td>\n      <td>2048</td>\n      <td>1152</td>\n      <td>Win32</td>\n      <td>25-09-23</td>\n      <td>21:29:55</td>\n      <td>other</td>\n      <td>blue</td>\n      <td>450306</td>\n    </tr>\n    <tr>\n      <th>2937</th>\n      <td>26</td>\n      <td>blue</td>\n      <td>no</td>\n      <td>last-month</td>\n      <td>male</td>\n      <td>1698262290769</td>\n      <td>2048</td>\n      <td>57</td>\n      <td>id14_v1_b7_r6.jpg</td>\n      <td>14</td>\n      <td>...</td>\n      <td>blue</td>\n      <td>Netscape</td>\n      <td>2048</td>\n      <td>1152</td>\n      <td>Win32</td>\n      <td>25-09-23</td>\n      <td>21:29:55</td>\n      <td>other</td>\n      <td>blue</td>\n      <td>450306</td>\n    </tr>\n    <tr>\n      <th>2938</th>\n      <td>26</td>\n      <td>blue</td>\n      <td>no</td>\n      <td>last-month</td>\n      <td>male</td>\n      <td>1698262290769</td>\n      <td>2048</td>\n      <td>58</td>\n      <td>id30_v1_b7_r6.jpg</td>\n      <td>30</td>\n      <td>...</td>\n      <td>blue</td>\n      <td>Netscape</td>\n      <td>2048</td>\n      <td>1152</td>\n      <td>Win32</td>\n      <td>25-09-23</td>\n      <td>21:29:55</td>\n      <td>other</td>\n      <td>blue</td>\n      <td>450306</td>\n    </tr>\n    <tr>\n      <th>2939</th>\n      <td>26</td>\n      <td>blue</td>\n      <td>no</td>\n      <td>last-month</td>\n      <td>male</td>\n      <td>1698262290769</td>\n      <td>2048</td>\n      <td>59</td>\n      <td>id2_v1_b6_r5.jpg</td>\n      <td>2</td>\n      <td>...</td>\n      <td>blue</td>\n      <td>Netscape</td>\n      <td>2048</td>\n      <td>1152</td>\n      <td>Win32</td>\n      <td>25-09-23</td>\n      <td>21:29:55</td>\n      <td>other</td>\n      <td>blue</td>\n      <td>450306</td>\n    </tr>\n  </tbody>\n</table>\n<p>2940 rows × 24 columns</p>\n</div>"
     },
     "execution_count": 7,
     "metadata": {},
     "output_type": "execute_result"
    }
   ],
   "source": [
    "df"
   ]
  },
  {
   "cell_type": "code",
   "execution_count": 8,
   "metadata": {
    "ExecuteTime": {
     "end_time": "2023-10-27T15:15:03.715561793Z",
     "start_time": "2023-10-27T15:15:03.662536380Z"
    }
   },
   "outputs": [
    {
     "data": {
      "text/plain": "expected_side\nblue    0.735374\nred     0.628571\nName: is_correct, dtype: float64"
     },
     "execution_count": 8,
     "metadata": {},
     "output_type": "execute_result"
    }
   ],
   "source": [
    "df['is_correct'] = df.expected_side == df.response_side\n",
    "df.groupby('expected_side').is_correct.mean()"
   ]
  }
 ],
 "metadata": {
  "kernelspec": {
   "display_name": "cog_sci_project",
   "language": "python",
   "name": "python3"
  },
  "language_info": {
   "codemirror_mode": {
    "name": "ipython",
    "version": 3
   },
   "file_extension": ".py",
   "mimetype": "text/x-python",
   "name": "python",
   "nbconvert_exporter": "python",
   "pygments_lexer": "ipython3",
   "version": "3.11.5"
  }
 },
 "nbformat": 4,
 "nbformat_minor": 2
}
