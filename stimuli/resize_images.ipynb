{
 "cells": [
  {
   "cell_type": "code",
   "execution_count": 4,
   "metadata": {},
   "outputs": [
    {
     "data": {
      "text/plain": [
       "'c:\\\\Users\\\\robert\\\\OneDrive\\\\MSc\\\\p3.1 - cognitive science\\\\project\\\\repo\\\\data_analysis'"
      ]
     },
     "execution_count": 4,
     "metadata": {},
     "output_type": "execute_result"
    }
   ],
   "source": [
    "import os\n",
    "os.getcwd()"
   ]
  },
  {
   "cell_type": "code",
   "execution_count": 13,
   "metadata": {},
   "outputs": [],
   "source": [
    "# resize all jpg images found in ./stimuli/full_size to have 40% of their original width and 40% of their original height and store them with the same name under ./stimuli\n",
    "# For example ./stimuli/full_size/a.jpg will result in ./stimuli/a.jpg which will be 40% of the original image.\n",
    "from PIL import Image\n",
    "for filename in os.listdir('../stimuli/full_size'):\n",
    "    if filename.endswith(\".jpg\"):\n",
    "        im = Image.open('../stimuli/full_size/' + filename)\n",
    "        width, height = im.size\n",
    "        new_height = 640\n",
    "        new_width = int(640/height * width)\n",
    "        #im = im.resize((int(width*0.4), int(height*0.4)), Image.LANCZOS)\n",
    "        im = im.resize((new_width, new_height), Image.LANCZOS)\n",
    "        # save the image with maximum quality and maximum compression\n",
    "        im.save('../stimuli/' + filename, quality=80, optimize=True, progressive=False)"
   ]
  }
 ],
 "metadata": {
  "kernelspec": {
   "display_name": "cog_sci_project",
   "language": "python",
   "name": "python3"
  },
  "language_info": {
   "codemirror_mode": {
    "name": "ipython",
    "version": 3
   },
   "file_extension": ".py",
   "mimetype": "text/x-python",
   "name": "python",
   "nbconvert_exporter": "python",
   "pygments_lexer": "ipython3",
   "version": "3.11.5"
  }
 },
 "nbformat": 4,
 "nbformat_minor": 2
}
